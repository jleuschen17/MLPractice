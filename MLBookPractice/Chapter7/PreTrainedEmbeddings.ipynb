{
 "cells": [
  {
   "cell_type": "code",
   "execution_count": 38,
   "metadata": {
    "collapsed": true
   },
   "outputs": [],
   "source": [
    "import json\n",
    "import tensorflow as tf\n",
    "from tensorflow import keras\n",
    "from tensorflow.keras.preprocessing.text import Tokenizer\n",
    "from bs4 import BeautifulSoup\n",
    "import string\n",
    "from tensorflow.keras.preprocessing.sequence import pad_sequences\n",
    "import json\n",
    "import numpy as np"
   ]
  },
  {
   "cell_type": "code",
   "execution_count": 39,
   "outputs": [
    {
     "name": "stdout",
     "output_type": "stream",
     "text": [
      "HE:LLO\n"
     ]
    }
   ],
   "source": [
    "print('HE:LLO')"
   ],
   "metadata": {
    "collapsed": false,
    "pycharm": {
     "name": "#%%\n"
    }
   }
  },
  {
   "cell_type": "code",
   "execution_count": 40,
   "outputs": [],
   "source": [
    "glove_embeddings = dict()\n",
    "f = open(r'C:\\Users\\jleus\\PycharmProjects\\pythonProject1\\Chapter7\\glove.twitter.27B.100d.txt', encoding='UTF-8')\n",
    "for line in f:\n",
    "    values = line.split()\n",
    "    word = values[0]\n",
    "    coefs = np.asarray(values[1:], dtype='float32')\n",
    "    glove_embeddings[word] = coefs\n",
    "f.close()"
   ],
   "metadata": {
    "collapsed": false,
    "pycharm": {
     "name": "#%%\n"
    }
   }
  },
  {
   "cell_type": "code",
   "execution_count": 41,
   "outputs": [
    {
     "data": {
      "text/plain": "array([-2.0432e-01, -2.6150e-01, -1.6633e-01,  4.6853e-01, -4.5815e-01,\n        2.7206e-01,  7.2837e-01, -2.7332e-01,  7.1900e-03,  1.3625e-02,\n        1.2160e-01,  5.8155e-01, -1.9450e+00,  7.3037e-02,  3.2283e-01,\n        7.7129e-01,  4.1995e-01,  3.6865e-01,  1.3315e-01, -5.6905e-01,\n        1.2460e-01, -4.2542e-01,  2.1237e-01, -4.0740e-01,  1.2356e+00,\n        5.4340e-01, -2.2625e-01,  3.0468e-02, -4.6312e-02,  3.7316e-01,\n        5.9658e-01,  2.9139e-01,  5.0718e-01, -2.9507e-01, -8.5241e-01,\n        2.3822e-01,  4.6839e-01, -1.8568e-01,  1.7349e-01, -6.8062e-02,\n        3.4812e-01, -1.8539e-01, -1.3700e-01,  2.5837e-01,  7.0864e-01,\n        8.3642e-01, -2.3989e-02,  9.6164e-01,  4.9107e-01,  1.6798e-01,\n        9.6609e-01, -2.8883e-01,  3.8461e-01, -3.8119e-01,  1.5834e-03,\n       -1.1867e-01,  2.7806e-01, -1.2263e-01,  9.4348e-02,  4.0990e-01,\n       -7.7709e-01, -2.3403e-01,  1.5025e-01, -1.3776e-01, -7.2865e-01,\n       -1.2810e-01, -3.3601e-01,  2.8861e-01, -2.6464e-01, -5.6897e-02,\n        7.8214e-01, -4.2059e-01, -2.2993e-01, -9.2306e-01, -7.5719e-02,\n        8.3283e-02, -2.5813e-01,  4.9935e-01,  8.3127e-01, -3.5099e-01,\n        1.7317e+00,  6.3388e-01, -6.3036e-01,  2.4671e-01,  6.0489e-01,\n       -2.4750e-01,  1.4258e-01,  7.5100e-02, -1.2801e-01,  2.8027e-01,\n        4.5831e-01, -1.2093e-01, -4.0274e-01,  1.7500e-02,  8.0021e-01,\n        2.7186e-01,  2.8896e-01, -5.8161e-01, -5.6983e-01,  8.4957e-01],\n      dtype=float32)"
     },
     "execution_count": 41,
     "metadata": {},
     "output_type": "execute_result"
    }
   ],
   "source": [
    "glove_embeddings['frog']\n"
   ],
   "metadata": {
    "collapsed": false,
    "pycharm": {
     "name": "#%%\n"
    }
   }
  },
  {
   "cell_type": "code",
   "execution_count": 42,
   "outputs": [],
   "source": [
    "table = str.maketrans('', '', string.punctuation)\n",
    "\n",
    "with open(r'C:\\Users\\jleus\\PycharmProjects\\pythonProject1\\Chapter5\\SarcasmDS\\sarcasm.json') as f:\n",
    "    datastore = json.load(f)\n",
    "\n",
    "sentences = []\n",
    "labels = []\n",
    "urls = []\n",
    "for item in datastore:\n",
    "    sentence = item['headline'].lower()\n",
    "    sentence = sentence.replace(\",\", \" , \")\n",
    "    sentence = sentence.replace(\".\", \" . \")\n",
    "    sentence = sentence.replace(\"-\", \" - \")\n",
    "    sentence = sentence.replace(\"/\", \" / \")\n",
    "    soup = BeautifulSoup(sentence)\n",
    "    sentence = soup.get_text()\n",
    "    words = sentence.split()\n",
    "    filtered_sentence = \"\"\n",
    "    for word in words:\n",
    "        word = word.translate(table)\n",
    "        filtered_sentence = filtered_sentence + word + \" \"\n",
    "    sentences.append(filtered_sentence)\n",
    "    labels.append(item['is_sarcastic'])\n",
    "    urls.append(item['article_link'])"
   ],
   "metadata": {
    "collapsed": false,
    "pycharm": {
     "name": "#%%\n"
    }
   }
  },
  {
   "cell_type": "code",
   "execution_count": 43,
   "outputs": [],
   "source": [
    "vocab_size = 13200\n",
    "embedding_dim = 100\n",
    "max_length = 100\n",
    "trunc_type='post'\n",
    "padding_type='post'\n",
    "oov_tok = \"<OOV>\"\n",
    "training_size = 23000\n",
    "training_sentences = sentences[0:training_size]\n",
    "testing_sentences = sentences[training_size:]\n",
    "training_labels = labels[0:training_size]\n",
    "testing_labels = labels[training_size:]"
   ],
   "metadata": {
    "collapsed": false,
    "pycharm": {
     "name": "#%%\n"
    }
   }
  },
  {
   "cell_type": "code",
   "execution_count": 44,
   "outputs": [],
   "source": [
    "tokenizer = Tokenizer(num_words=vocab_size, oov_token=oov_tok)\n",
    "tokenizer.fit_on_texts(training_sentences)\n",
    "\n",
    "word_index = tokenizer.word_index\n",
    "\n",
    "training_sequences = tokenizer.texts_to_sequences(training_sentences)\n",
    "training_padded = pad_sequences(training_sequences, maxlen=max_length, padding=padding_type, truncating=trunc_type)\n",
    "\n",
    "testing_sequences = tokenizer.texts_to_sequences(testing_sentences)\n",
    "testing_padded = pad_sequences(testing_sequences, maxlen=max_length, padding=padding_type, truncating=trunc_type)"
   ],
   "metadata": {
    "collapsed": false,
    "pycharm": {
     "name": "#%%\n"
    }
   }
  },
  {
   "cell_type": "code",
   "execution_count": 45,
   "outputs": [],
   "source": [
    "\n",
    "embedding_matrix = np.zeros((vocab_size, embedding_dim))\n",
    "for word, index in tokenizer.word_index.items():\n",
    "    if index > vocab_size - 1:\n",
    "        break\n",
    "    else:\n",
    "        embedding_vector = glove_embeddings.get(word)\n",
    "        if embedding_vector is not None:\n",
    "            embedding_matrix[index] = embedding_vector"
   ],
   "metadata": {
    "collapsed": false,
    "pycharm": {
     "name": "#%%\n"
    }
   }
  },
  {
   "cell_type": "code",
   "execution_count": 46,
   "outputs": [
    {
     "name": "stdout",
     "output_type": "stream",
     "text": [
      "[[ 0.          0.          0.         ...  0.          0.\n",
      "   0.        ]\n",
      " [ 0.          0.          0.         ...  0.          0.\n",
      "   0.        ]\n",
      " [ 0.85374999  0.22774     0.69474    ... -0.01903     0.16150001\n",
      "   0.27763   ]\n",
      " ...\n",
      " [-0.55716002 -0.21588001  0.30399999 ... -0.69821     0.81382\n",
      "  -0.43865001]\n",
      " [ 0.          0.          0.         ...  0.          0.\n",
      "   0.        ]\n",
      " [-0.79688001 -0.94788998 -1.14400005 ...  0.044862    0.14181\n",
      "   0.46232   ]]\n"
     ]
    }
   ],
   "source": [
    "print(embedding_matrix)"
   ],
   "metadata": {
    "collapsed": false,
    "pycharm": {
     "name": "#%%\n"
    }
   }
  },
  {
   "cell_type": "code",
   "execution_count": 47,
   "outputs": [],
   "source": [
    "xs=[]\n",
    "ys=[]\n",
    "cumulative_x=[]\n",
    "cumulative_y=[]\n",
    "total_y=0\n",
    "for word, index in tokenizer.word_index.items():\n",
    "    xs.append(index)\n",
    "    cumulative_x.append(index)\n",
    "    if glove_embeddings.get(word) is not None:\n",
    "       total_y = total_y + 1\n",
    "       ys.append(1)\n",
    "    else:\n",
    "        ys.append(0)\n",
    "    cumulative_y.append(total_y / index)"
   ],
   "metadata": {
    "collapsed": false,
    "pycharm": {
     "name": "#%%\n"
    }
   }
  },
  {
   "cell_type": "code",
   "execution_count": 48,
   "outputs": [
    {
     "data": {
      "text/plain": "[<matplotlib.patches.Polygon at 0x257409c94c0>]"
     },
     "execution_count": 48,
     "metadata": {},
     "output_type": "execute_result"
    },
    {
     "data": {
      "text/plain": "<Figure size 864x144 with 1 Axes>",
      "image/png": "[encoded data removed]"
     },
     "metadata": {
      "needs_background": "light"
     },
     "output_type": "display_data"
    }
   ],
   "source": [
    "import matplotlib.pyplot as plt\n",
    "fig, ax = plt.subplots(figsize=(12,2))\n",
    "ax.spines['top'].set_visible(False)\n",
    "plt.margins(x=0, y=None, tight=True)\n",
    "#plt.axis([13000, 14000, 0, 1])\n",
    "plt.fill(ys)"
   ],
   "metadata": {
    "collapsed": false,
    "pycharm": {
     "name": "#%%\n"
    }
   }
  },
  {
   "cell_type": "code",
   "execution_count": 49,
   "outputs": [
    {
     "data": {
      "text/plain": "(0.0, 25000.0, 0.915, 0.985)"
     },
     "execution_count": 49,
     "metadata": {},
     "output_type": "execute_result"
    },
    {
     "data": {
      "text/plain": "<Figure size 432x288 with 1 Axes>",
      "image/png": "[encoded data removed]"
     },
     "metadata": {
      "needs_background": "light"
     },
     "output_type": "display_data"
    }
   ],
   "source": [
    "import matplotlib.pyplot as plt\n",
    "plt.plot(cumulative_x, cumulative_y)\n",
    "plt.axis([0, 25000, .915, .985])"
   ],
   "metadata": {
    "collapsed": false,
    "pycharm": {
     "name": "#%%\n"
    }
   }
  },
  {
   "cell_type": "code",
   "execution_count": 55,
   "outputs": [],
   "source": [
    "training_padded = np.array(training_padded)\n",
    "training_labels = np.array(training_labels)\n",
    "testing_padded = np.array(testing_padded)\n",
    "testing_labels = np.array(testing_labels)"
   ],
   "metadata": {
    "collapsed": false,
    "pycharm": {
     "name": "#%%\n"
    }
   }
  },
  {
   "cell_type": "code",
   "execution_count": 56,
   "outputs": [],
   "source": [
    "model = tf.keras.Sequential([\n",
    "    tf.keras.layers.Embedding(vocab_size, embedding_dim,\n",
    "    weights=[embedding_matrix], trainable=False),\n",
    "    tf.keras.layers.Bidirectional(tf.keras.layers.LSTM(embedding_dim,\n",
    "    return_sequences=True)),\n",
    "    tf.keras.layers.Bidirectional(tf.keras.layers.LSTM(embedding_dim)),\n",
    "    tf.keras.layers.Dense(24, activation='relu'),\n",
    "    tf.keras.layers.Dense(1, activation='sigmoid')\n",
    "])\n",
    "adam = tf.keras.optimizers.Adam(learning_rate=0.00001, beta_1=0.9, beta_2=0.999,\n",
    "amsgrad=False)\n",
    "model.compile(loss='binary_crossentropy',optimizer=adam, metrics=['accuracy'])"
   ],
   "metadata": {
    "collapsed": false,
    "pycharm": {
     "name": "#%%\n"
    }
   }
  },
  {
   "cell_type": "code",
   "execution_count": 57,
   "outputs": [
    {
     "name": "stdout",
     "output_type": "stream",
     "text": [
      "Model: \"sequential_7\"\n",
      "_________________________________________________________________\n",
      "Layer (type)                 Output Shape              Param #   \n",
      "=================================================================\n",
      "embedding_7 (Embedding)      (None, None, 100)         1320000   \n",
      "_________________________________________________________________\n",
      "bidirectional_14 (Bidirectio (None, None, 200)         160800    \n",
      "_________________________________________________________________\n",
      "bidirectional_15 (Bidirectio (None, 200)               240800    \n",
      "_________________________________________________________________\n",
      "dense_14 (Dense)             (None, 24)                4824      \n",
      "_________________________________________________________________\n",
      "dense_15 (Dense)             (None, 1)                 25        \n",
      "=================================================================\n",
      "Total params: 1,726,449\n",
      "Trainable params: 406,449\n",
      "Non-trainable params: 1,320,000\n",
      "_________________________________________________________________\n"
     ]
    }
   ],
   "source": [
    "model.summary()"
   ],
   "metadata": {
    "collapsed": false,
    "pycharm": {
     "name": "#%%\n"
    }
   }
  },
  {
   "cell_type": "code",
   "execution_count": 58,
   "outputs": [
    {
     "name": "stdout",
     "output_type": "stream",
     "text": [
      "Epoch 1/10\n",
      "719/719 - 71s - loss: 0.6611 - accuracy: 0.5913 - val_loss: 0.6217 - val_accuracy: 0.6673\n",
      "Epoch 2/10\n",
      "719/719 - 62s - loss: 0.5559 - accuracy: 0.7306 - val_loss: 0.5190 - val_accuracy: 0.7520\n",
      "Epoch 3/10\n",
      "719/719 - 62s - loss: 0.5018 - accuracy: 0.7626 - val_loss: 0.4920 - val_accuracy: 0.7714\n",
      "Epoch 4/10\n",
      "719/719 - 63s - loss: 0.4808 - accuracy: 0.7722 - val_loss: 0.4745 - val_accuracy: 0.7797\n",
      "Epoch 5/10\n",
      "719/719 - 63s - loss: 0.4651 - accuracy: 0.7816 - val_loss: 0.4595 - val_accuracy: 0.7910\n",
      "Epoch 6/10\n",
      "719/719 - 62s - loss: 0.4530 - accuracy: 0.7874 - val_loss: 0.4492 - val_accuracy: 0.7962\n",
      "Epoch 7/10\n",
      "719/719 - 65s - loss: 0.4445 - accuracy: 0.7926 - val_loss: 0.4464 - val_accuracy: 0.7962\n",
      "Epoch 8/10\n",
      "719/719 - 63s - loss: 0.4373 - accuracy: 0.7965 - val_loss: 0.4347 - val_accuracy: 0.8053\n",
      "Epoch 9/10\n",
      "719/719 - 63s - loss: 0.4310 - accuracy: 0.8000 - val_loss: 0.4315 - val_accuracy: 0.8026\n",
      "Epoch 10/10\n",
      "719/719 - 63s - loss: 0.4247 - accuracy: 0.8030 - val_loss: 0.4253 - val_accuracy: 0.8059\n"
     ]
    }
   ],
   "source": [
    "num_epochs = 10\n",
    "history= model.fit(training_padded, training_labels, epochs=num_epochs,\n",
    "                   validation_data=(testing_padded, testing_labels), verbose=2)"
   ],
   "metadata": {
    "collapsed": false,
    "pycharm": {
     "name": "#%%\n"
    }
   }
  },
  {
   "cell_type": "code",
   "execution_count": 59,
   "outputs": [
    {
     "data": {
      "text/plain": "<Figure size 432x288 with 1 Axes>",
      "image/png": "[encoded data removed]"
     },
     "metadata": {
      "needs_background": "light"
     },
     "output_type": "display_data"
    },
    {
     "data": {
      "text/plain": "<Figure size 432x288 with 1 Axes>",
      "image/png": "[encoded data removed]"
     },
     "metadata": {
      "needs_background": "light"
     },
     "output_type": "display_data"
    }
   ],
   "source": [
    "import matplotlib.pyplot as plt\n",
    "\n",
    "\n",
    "def plot_graphs(history, string):\n",
    "  plt.plot(history.history[string])\n",
    "  plt.plot(history.history['val_'+string])\n",
    "  plt.xlabel(\"Epochs\")\n",
    "  plt.ylabel(string)\n",
    "  plt.legend([string, 'val_'+string])\n",
    "  plt.show()\n",
    "\n",
    "plot_graphs(history, \"accuracy\")\n",
    "plot_graphs(history, \"loss\")"
   ],
   "metadata": {
    "collapsed": false,
    "pycharm": {
     "name": "#%%\n"
    }
   }
  },
  {
   "cell_type": "code",
   "execution_count": 60,
   "outputs": [
    {
     "name": "stdout",
     "output_type": "stream",
     "text": [
      "mom starting to fear sons web series closest thing she will have to grandchild ? ? ? ? ? ? ? ? ? ? ? ? ? ? ? ? ? ? ? ? ? ? ? ? ? ? ? ? ? ? ? ? ? ? ? ? ? ? ? ? ? ? ? ? ? ? ? ? ? ? ? ? ? ? ? ? ? ? ? ? ? ? ? ? ? ? ? ? ? ? ? ? ? ? ? ? ? ? ? ? ? ? ? ? ? ?\n",
      "mom starting to fear sons web series closest thing she will have to grandchild \n",
      "1\n"
     ]
    }
   ],
   "source": [
    "reverse_word_index = dict([(value, key) for (key, value) in word_index.items()])\n",
    "\n",
    "def decode_sentence(text):\n",
    "    return ' '.join([reverse_word_index.get(i, '?') for i in text])\n",
    "\n",
    "print(decode_sentence(training_padded[2]))\n",
    "print(training_sentences[2])\n",
    "print(labels[2])"
   ],
   "metadata": {
    "collapsed": false,
    "pycharm": {
     "name": "#%%\n"
    }
   }
  },
  {
   "cell_type": "code",
   "execution_count": 62,
   "outputs": [
    {
     "name": "stdout",
     "output_type": "stream",
     "text": [
      "(13200, 100)\n"
     ]
    }
   ],
   "source": [
    "e = model.layers[0]\n",
    "weights = e.get_weights()[0]\n",
    "print(weights.shape)"
   ],
   "metadata": {
    "collapsed": false,
    "pycharm": {
     "name": "#%%\n"
    }
   }
  },
  {
   "cell_type": "code",
   "execution_count": 1,
   "outputs": [
    {
     "name": "stdout",
     "output_type": "stream",
     "text": [
      "sup\n"
     ]
    }
   ],
   "source": [
    "test_sentences = ['California Employees Hesitant About Returning To Office Currently On Fire',\n",
    "                  'Texas Republicans revealed far-reaching voter restriction bills that would overhaul the state’s elections',\n",
    "                  'Starstruck Man Can’t Think Of Anything To Say To Cruise Ship Hypnotist In Breakfast Buffet Line',\n",
    "                  'Biden forcefully defends Afghan pullout despite Taliban gains',\n",
    "                  'Woman Sporting Sandal Tan Must Have Just Returned From Weekend Aboard $35 Million Yacht Off Coast Of Ibiza',\n",
    "                  'Civil rights leaders dial up pressure on White House to protect voting rights',\n",
    "                  'The rapid decline of White evangelical America',\n",
    "                  'Ron DeSantis Requires Florida Residents To Reinforce Bones With Steel, Concrete',\n",
    "                  'The delta variant threatens to upend the politics of the coronavirus',\n",
    "                  'Tucker Carlson’s NSA claims are the latest example of the right wing’s rhetorical bait-and-switch',\n",
    "                  'Parents Just Have 2-Week Hole To Fill In Before Summer Camp Lineup Complete',\n",
    "                  'Tokyo Olympics To Prevent Covid Spread By Restricting Events To Short Outdoor Walks',\n",
    "                  ]\n",
    "\n",
    "print('sup')"
   ],
   "metadata": {
    "collapsed": false,
    "pycharm": {
     "name": "#%%\n"
    }
   }
  },
  {
   "cell_type": "code",
   "execution_count": 134,
   "outputs": [],
   "source": [
    "sequences = tokenizer.texts_to_sequences(test_sentences)\n",
    "padded = pad_sequences(sequences, maxlen=max_length, padding=padding_type, truncating=trunc_type)\n",
    "\n",
    "predictions = model.predict(padded)"
   ],
   "metadata": {
    "collapsed": false,
    "pycharm": {
     "name": "#%%\n"
    }
   }
  },
  {
   "cell_type": "code",
   "execution_count": 135,
   "outputs": [
    {
     "name": "stdout",
     "output_type": "stream",
     "text": [
      "[[0.86263835]\n",
      " [0.17121229]\n",
      " [0.96226573]\n",
      " [0.2724931 ]\n",
      " [0.92020524]\n",
      " [0.4675371 ]\n",
      " [0.24348465]\n",
      " [0.6128248 ]\n",
      " [0.0324342 ]\n",
      " [0.06347814]\n",
      " [0.96898323]\n",
      " [0.5205938 ]]\n"
     ]
    }
   ],
   "source": [
    "print(predictions)\n"
   ],
   "metadata": {
    "collapsed": false,
    "pycharm": {
     "name": "#%%\n"
    }
   }
  }
 ],
 "metadata": {
  "kernelspec": {
   "display_name": "Python 3",
   "language": "python",
   "name": "python3"
  },
  "language_info": {
   "codemirror_mode": {
    "name": "ipython",
    "version": 2
   },
   "file_extension": ".py",
   "mimetype": "text/x-python",
   "name": "python",
   "nbconvert_exporter": "python",
   "pygments_lexer": "ipython2",
   "version": "2.7.6"
  }
 },
 "nbformat": 4,
 "nbformat_minor": 0
}